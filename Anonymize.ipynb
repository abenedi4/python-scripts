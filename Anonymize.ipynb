{
 "cells": [
  {
   "cell_type": "code",
   "execution_count": 1,
   "metadata": {},
   "outputs": [],
   "source": [
    "import csv\n",
    "import glob"
   ]
  },
  {
   "cell_type": "code",
   "execution_count": 2,
   "metadata": {},
   "outputs": [
    {
     "name": "stdout",
     "output_type": "stream",
     "text": [
      "['./reflection_csvs\\\\reflections_spr2020final.csv', './reflection_csvs\\\\reflections_spr2020Ref1-13.csv', './reflection_csvs\\\\reflections_spr2020Ref1-22.csv', './reflection_csvs\\\\reflections_spr2020Ref1-27.csv', './reflection_csvs\\\\reflections_spr2020Ref1-8.csv', './reflection_csvs\\\\reflections_spr2020Ref3-18.csv', './reflection_csvs\\\\reflections_spr2020Ref3-23.csv', './reflection_csvs\\\\reflections_spr2020Ref3-25.csv', './reflection_csvs\\\\reflections_spr2020Ref3-30.csv', './reflection_csvs\\\\reflections_spr2020Ref4-1.csv']\n",
      "['./student_csvs\\\\students_spr2020.csv']\n"
     ]
    }
   ],
   "source": [
    "r_fnames = []\n",
    "s_fnames = []\n",
    "\n",
    "rpath = \"./reflection_csvs/*.csv\"\n",
    "for fname in glob.glob(rpath):\n",
    "    r_fnames.append(fname)\n",
    "spath = \"./student_csvs/*.csv\"\n",
    "for fname in glob.glob(spath):\n",
    "    s_fnames.append(fname)\n",
    "print(r_fnames)\n",
    "print(s_fnames)"
   ]
  },
  {
   "cell_type": "code",
   "execution_count": 5,
   "metadata": {},
   "outputs": [
    {
     "name": "stdout",
     "output_type": "stream",
     "text": [
      "{'Yousef Alfaili': 'student1', 'Yasmeen Alzouby': 'student2', 'Leif Andersen': 'student3', 'Mohamedsultan Asfar': 'student4', 'Kerjan Astudillo': 'student5', 'Jose Avila': 'student6', 'Nick Battista': 'student7', 'Madison Belk': 'student8', 'Trey Bly': 'student9', 'Kobe Brown': 'student10', 'Zach Brown': 'student11', 'Daniel Bryson': 'student12', 'Darius Cherry': 'student13', 'James Cramer': 'student14', 'Dj Cuthbertson': 'student15', 'Dhruv Dawalbhakta': 'student16', 'Arjan Dhungel': 'student17', 'William Dufault': 'student18', 'Kayly Duran': 'student19', 'Joseph Durham': 'student20', 'Ryleigh Frederick': 'student21', 'John Gallagher': 'student22', 'Connor Gentile': 'student23', 'Riley Gilland': 'student24', 'Joshua Goldstein': 'student25', 'Anthony Gonzalez': 'student26', 'Jalin Graham': 'student27', 'Shariff Grant': 'student28', 'Oris Griggs': 'student29', 'Aidan Hanger': 'student30', 'Adnane Hedadja': 'student31', 'Kye Henry': 'student32', 'Michael Hoffmann': 'student33', 'Daniel Holmquist': 'student34', 'Autumn Horrell': 'student35', 'Griffin Ingold': 'student36', 'Ridwaan Jafe': 'student37', 'Kacey Johnson': 'student38', 'Kayla Johnson': 'student39', 'Lexi Johnson': 'student40', 'Martin Johnson': 'student41', 'Melanie Key': 'student42', 'Deepen Khadka': 'student43', 'Safa Khalid': 'student44', 'Shawn Kiely': 'student45', 'Ramesh Koirala': 'student46', 'Sulayman Komma': 'student47', 'Justin Kwong': 'student48', 'Tobi Ladipo': 'student49', 'Brandon Lee': 'student50', 'Josh Leins': 'student51', 'Aiden Linster': 'student52', 'Venison Lo': 'student53', 'Jared Logan': 'student54', 'Christian Madajski': 'student55', 'Walter Matthews': 'student56', 'Michael Mccall': 'student57', 'Shashank Mondrati': 'student58', 'Justice Montalvo': 'student59', 'Aidan Nelson': 'student60', \"Dixon O'Hair\": 'student61', 'Casey Oates': 'student62', 'Dexter Osha': 'student63', 'David Osunkwo': 'student64', 'Bertrand Owusu': 'student65', 'Harsh Patel': 'student66', 'Preet Patel': 'student67', 'Sarnam Patel': 'student68', 'Thomas Pawlowski': 'student69', 'Asher Philips': 'student70', 'Ryan Pil': 'student71', 'Jake Powell': 'student72', 'William Powell': 'student73', 'Brenden Pusso': 'student74', 'Shaghayegh Raeiezabadi': 'student75', 'Pravalika Ravula': 'student76', 'Nadia Richardson': 'student77', 'Maha Rizvi': 'student78', 'Donald Robinson': 'student79', 'Peyton Roden': 'student80', 'Damian Rodriguez': 'student81', 'Keivon Safari': 'student82', 'Yoyo Said': 'student83', 'Gavin Scanlon': 'student84', 'Destiny Scott': 'student85', 'Kartik Sharma': 'student86', 'Dhruva Shivakumar': 'student87', 'Alonna Sinclair': 'student88', 'Jonathan Smith': 'student89', 'Demitrius Spury': 'student90', 'Tori Stoenner': 'student91', 'Stephen Tate': 'student92', 'Ray Townsend': 'student93', 'Kyle Van Tubbergh': 'student94', 'Seth Vanderhoof': 'student95', 'Wilman Vasquez': 'student96', 'Matt Wells': 'student97', 'Eunique Williams': 'student98', 'Natalia Wnuk': 'student99', \"Jah'Vonni Wright\": 'student100', 'Josh Wright': 'student101', 'Justin Xu': 'student102', 'Nue Yang': 'student103', 'Bowen Young': 'student104', 'Sage Zeak': 'student105'}\n"
     ]
    }
   ],
   "source": [
    "for j in range(len(s_fnames)):\n",
    "    \n",
    "    students = csv.reader(open(s_fnames[j], encoding=\"utf8\"))\n",
    "    s = list(students)\n",
    "    \n",
    "    s_dict = dict()\n",
    "\n",
    "    snum = 1\n",
    "    for student in s:\n",
    "        s_dict[student[0]] = \"student\"+str(snum)\n",
    "        snum = snum + 1\n",
    "    print(s_dict)\n",
    "    for i in range(len(r_fnames)):\n",
    "        \n",
    "        reflection = csv.reader(open(r_fnames[i], encoding=\"utf8\"))\n",
    "        r = list(reflection)\n",
    "\n",
    "        for x in range(len(r)):\n",
    "            r[x][0] = s_dict.get(r[x][0])\n",
    "\n",
    "        newfname = \"anonymized\" + r_fnames[i].split('_')[-1]\n",
    "        with open(newfname, 'w', encoding=\"utf8\") as myfile:\n",
    "            wr = csv.writer(myfile, lineterminator = '\\n')\n",
    "            wr.writerows(r)"
   ]
  },
  {
   "cell_type": "code",
   "execution_count": null,
   "metadata": {},
   "outputs": [],
   "source": []
  }
 ],
 "metadata": {
  "kernelspec": {
   "display_name": "Python 3",
   "language": "python",
   "name": "python3"
  },
  "language_info": {
   "codemirror_mode": {
    "name": "ipython",
    "version": 3
   },
   "file_extension": ".py",
   "mimetype": "text/x-python",
   "name": "python",
   "nbconvert_exporter": "python",
   "pygments_lexer": "ipython3",
   "version": "3.8.3"
  }
 },
 "nbformat": 4,
 "nbformat_minor": 4
}
