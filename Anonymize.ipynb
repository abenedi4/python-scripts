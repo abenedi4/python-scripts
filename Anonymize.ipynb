{
 "cells": [
  {
   "cell_type": "code",
   "execution_count": null,
   "metadata": {},
   "outputs": [],
   "source": [
    "import csv\n",
    "import glob"
   ]
  },
  {
   "cell_type": "code",
   "execution_count": null,
   "metadata": {},
   "outputs": [],
   "source": [
    "r_fnames = []\n",
    "s_fnames = []\n",
    "\n",
    "rpath = \"./reflection_csvs/*.csv\"\n",
    "for fname in glob.glob(rpath):\n",
    "    r_fnames.append(fname)\n",
    "spath = \"./student_csvs/*.csv\"\n",
    "for fname in glob.glob(spath):\n",
    "    s_fnames.append(fname)\n",
    "print(r_fnames)\n",
    "print(s_fnames)"
   ]
  },
  {
   "cell_type": "code",
   "execution_count": null,
   "metadata": {},
   "outputs": [],
   "source": [
    "for j in range(len(s_fnames)):\n",
    "    \n",
    "    students = csv.reader(open(s_fnames[j], encoding=\"utf8\"))\n",
    "    s = list(students)\n",
    "    \n",
    "    s_dict = dict()\n",
    "\n",
    "    snum = 1\n",
    "    for student in s:\n",
    "        s_dict[student[0]] = \"student\"+str(snum)\n",
    "        snum = snum + 1\n",
    "    print(s_dict)\n",
    "    for i in range(len(r_fnames)):\n",
    "        \n",
    "        reflection = csv.reader(open(r_fnames[i], encoding=\"utf8\"))\n",
    "        r = list(reflection)\n",
    "\n",
    "        for x in range(len(r)):\n",
    "            r[x][0] = s_dict.get(r[x][0])\n",
    "\n",
    "        newfname = \"anonymized\" + r_fnames[i].split('_')[-1]\n",
    "        with open(newfname, 'w', encoding=\"utf8\") as myfile:\n",
    "            wr = csv.writer(myfile, lineterminator = '\\n')\n",
    "            wr.writerows(r)"
   ]
  }
 ],
 "metadata": {
  "kernelspec": {
   "display_name": "Python 3",
   "language": "python",
   "name": "python3"
  },
  "language_info": {
   "codemirror_mode": {
    "name": "ipython",
    "version": 3
   },
   "file_extension": ".py",
   "mimetype": "text/x-python",
   "name": "python",
   "nbconvert_exporter": "python",
   "pygments_lexer": "ipython3",
   "version": "3.8.3"
  }
 },
 "nbformat": 4,
 "nbformat_minor": 4
}
