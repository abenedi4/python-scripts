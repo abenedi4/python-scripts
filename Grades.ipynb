{
 "cells": [
  {
   "cell_type": "code",
   "execution_count": 4,
   "metadata": {},
   "outputs": [],
   "source": [
    "import csv\n",
    "import glob"
   ]
  },
  {
   "cell_type": "code",
   "execution_count": 5,
   "metadata": {},
   "outputs": [
    {
     "name": "stdout",
     "output_type": "stream",
     "text": [
      "['./3155_reflections\\\\3155 Fall 2020 Reflection Data - Final.csv', './3155_reflections\\\\3155 Fall 2020 Reflection Data - Midterm.csv', './3155_reflections\\\\3155 Fall 2020 Reflection Data - Week 1.csv', './3155_reflections\\\\3155 Fall 2020 Reflection Data - Week 2.csv', './3155_reflections\\\\3155 Fall 2020 Reflection Data - Week 3.csv', './3155_reflections\\\\3155 Fall 2020 Reflection Data - Week 4.csv', './3155_reflections\\\\3155 Fall 2020 Reflection Data - Week 5.csv', './3155_reflections\\\\3155 Fall 2020 Reflection Data - Week 6.csv', './3155_reflections\\\\3155 Fall 2020 Reflection Data - Week 7.csv', './3155_reflections\\\\3155 Fall 2020 Reflection Data - Week 8.csv', './3155_reflections\\\\3155 Fall 2020 Reflection Data - Week 9.csv']\n",
      "['./3155_grades\\\\grades.csv']\n"
     ]
    }
   ],
   "source": [
    "r_fnames = []\n",
    "s_fnames = []\n",
    "\n",
    "rpath = \"./3155_reflections/*.csv\"\n",
    "for fname in glob.glob(rpath):\n",
    "    r_fnames.append(fname)\n",
    "spath = \"./3155_grades/*.csv\"\n",
    "for fname in glob.glob(spath):\n",
    "    s_fnames.append(fname)\n",
    "print(r_fnames)\n",
    "print(s_fnames)"
   ]
  },
  {
   "cell_type": "code",
   "execution_count": 7,
   "metadata": {},
   "outputs": [
    {
     "name": "stdout",
     "output_type": "stream",
     "text": [
      "Saved anonymized 3155 Fall 2020 Reflection Data - Final.csv...\n",
      "Saved anonymized 3155 Fall 2020 Reflection Data - Midterm.csv...\n",
      "Saved anonymized 3155 Fall 2020 Reflection Data - Week 1.csv...\n",
      "Saved anonymized 3155 Fall 2020 Reflection Data - Week 2.csv...\n",
      "Saved anonymized 3155 Fall 2020 Reflection Data - Week 3.csv...\n",
      "Saved anonymized 3155 Fall 2020 Reflection Data - Week 4.csv...\n",
      "Saved anonymized 3155 Fall 2020 Reflection Data - Week 5.csv...\n",
      "Saved anonymized 3155 Fall 2020 Reflection Data - Week 6.csv...\n",
      "Saved anonymized 3155 Fall 2020 Reflection Data - Week 7.csv...\n",
      "Saved anonymized 3155 Fall 2020 Reflection Data - Week 8.csv...\n",
      "Saved anonymized 3155 Fall 2020 Reflection Data - Week 9.csv...\n"
     ]
    }
   ],
   "source": [
    "students = csv.reader(open(s_fnames[0], encoding=\"utf8\"))\n",
    "s = list(students)\n",
    "\n",
    "\n",
    "grade_dict = dict()\n",
    "name_dict = dict()\n",
    "\n",
    "#Create dictionaries with student grades and anonymized IDs\n",
    "count = 1;\n",
    "for student in s:\n",
    "    stu_name = student[0].split(\", \")\n",
    "    name = stu_name[1] + \" \" + stu_name[0]\n",
    "    grade_dict[name] = student[1]\n",
    "    name_dict[name] = \"student\"+str(count)\n",
    "    count = count + 1 \n",
    "\n",
    "#Fill student grades in Grade column\n",
    "for i in range(len(r_fnames)):\n",
    "    reflection = csv.reader(open(r_fnames[i], encoding=\"utf8\"))\n",
    "    r = list(reflection)\n",
    "    \n",
    "    for row in r[1:]:\n",
    "        row[1] = grade_dict.get(row[0])\n",
    "        row[0] = name_dict.get(row[0])\n",
    "    newfname = \"anonymized \" + r_fnames[i].split('\\\\')[-1]\n",
    "    with open(newfname, 'w', encoding=\"utf8\") as myfile:\n",
    "        wr = csv.writer(myfile, lineterminator = '\\n')\n",
    "        wr.writerows(r)\n",
    "    print(\"Saved \" + newfname + \"...\")"
   ]
  },
  {
   "cell_type": "code",
   "execution_count": null,
   "metadata": {},
   "outputs": [],
   "source": []
  }
 ],
 "metadata": {
  "kernelspec": {
   "display_name": "Python 3",
   "language": "python",
   "name": "python3"
  },
  "language_info": {
   "codemirror_mode": {
    "name": "ipython",
    "version": 3
   },
   "file_extension": ".py",
   "mimetype": "text/x-python",
   "name": "python",
   "nbconvert_exporter": "python",
   "pygments_lexer": "ipython3",
   "version": "3.8.3"
  }
 },
 "nbformat": 4,
 "nbformat_minor": 4
}
