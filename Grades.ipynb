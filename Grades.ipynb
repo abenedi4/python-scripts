{
 "cells": [
  {
   "cell_type": "code",
   "execution_count": null,
   "metadata": {},
   "outputs": [],
   "source": [
    "import csv\n",
    "import glob"
   ]
  },
  {
   "cell_type": "code",
   "execution_count": null,
   "metadata": {},
   "outputs": [],
   "source": [
    "r_fnames = []\n",
    "s_fnames = []\n",
    "\n",
    "rpath = \"./3155_reflections/*.csv\"\n",
    "for fname in glob.glob(rpath):\n",
    "    r_fnames.append(fname)\n",
    "spath = \"./3155_grades/*.csv\"\n",
    "for fname in glob.glob(spath):\n",
    "    s_fnames.append(fname)\n",
    "print(r_fnames)\n",
    "print(s_fnames)"
   ]
  },
  {
   "cell_type": "code",
   "execution_count": null,
   "metadata": {},
   "outputs": [],
   "source": [
    "students = csv.reader(open(s_fnames[0], encoding=\"utf8\"))\n",
    "s = list(students)\n",
    "\n",
    "\n",
    "grade_dict = dict()\n",
    "name_dict = dict()\n",
    "\n",
    "#Create dictionaries with student grades and anonymized IDs\n",
    "count = 1;\n",
    "for student in s:\n",
    "    stu_name = student[0].split(\", \")\n",
    "    name = stu_name[1] + \" \" + stu_name[0]\n",
    "    grade_dict[name] = student[1]\n",
    "    name_dict[name] = \"student\"+str(count)\n",
    "    count = count + 1 \n",
    "\n",
    "#Fill student grades in Grade column\n",
    "for i in range(len(r_fnames)):\n",
    "    reflection = csv.reader(open(r_fnames[i], encoding=\"utf8\"))\n",
    "    r = list(reflection)\n",
    "    \n",
    "    for row in r[1:]:\n",
    "        row[1] = grade_dict.get(row[0])\n",
    "        row[0] = name_dict.get(row[0])\n",
    "    newfname = \"anonymized \" + r_fnames[i].split('\\\\')[-1]\n",
    "    with open(newfname, 'w', encoding=\"utf8\") as myfile:\n",
    "        wr = csv.writer(myfile, lineterminator = '\\n')\n",
    "        wr.writerows(r)\n",
    "    print(\"Saved \" + newfname + \"...\")"
   ]
  }
 ],
 "metadata": {
  "kernelspec": {
   "display_name": "Python 3",
   "language": "python",
   "name": "python3"
  },
  "language_info": {
   "codemirror_mode": {
    "name": "ipython",
    "version": 3
   },
   "file_extension": ".py",
   "mimetype": "text/x-python",
   "name": "python",
   "nbconvert_exporter": "python",
   "pygments_lexer": "ipython3",
   "version": "3.8.3"
  }
 },
 "nbformat": 4,
 "nbformat_minor": 4
}
