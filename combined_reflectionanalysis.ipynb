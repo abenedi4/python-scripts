{
 "cells": [
  {
   "cell_type": "markdown",
   "metadata": {},
   "source": [
    "## Imports"
   ]
  },
  {
   "cell_type": "code",
   "execution_count": 1,
   "metadata": {},
   "outputs": [
    {
     "name": "stderr",
     "output_type": "stream",
     "text": [
      "[nltk_data] Downloading package vader_lexicon to\n",
      "[nltk_data]     C:\\Users\\Alexandria\\AppData\\Roaming\\nltk_data...\n",
      "[nltk_data]   Package vader_lexicon is already up-to-date!\n",
      "[nltk_data] Downloading package brown to\n",
      "[nltk_data]     C:\\Users\\Alexandria\\AppData\\Roaming\\nltk_data...\n",
      "[nltk_data]   Package brown is already up-to-date!\n",
      "[nltk_data] Downloading package punkt to\n",
      "[nltk_data]     C:\\Users\\Alexandria\\AppData\\Roaming\\nltk_data...\n",
      "[nltk_data]   Package punkt is already up-to-date!\n"
     ]
    },
    {
     "data": {
      "text/plain": [
       "True"
      ]
     },
     "execution_count": 1,
     "metadata": {},
     "output_type": "execute_result"
    }
   ],
   "source": [
    "import pandas as pd\n",
    "import numpy as np\n",
    "import math\n",
    "import matplotlib.pyplot as plt\n",
    "import nltk\n",
    "from wordcloud import WordCloud, STOPWORDS, ImageColorGenerator\n",
    "nltk.download('vader_lexicon')\n",
    "from nltk.sentiment.vader import SentimentIntensityAnalyzer\n",
    "from textblob import TextBlob\n",
    "nltk.download('brown')\n",
    "nltk.download('punkt')"
   ]
  },
  {
   "cell_type": "markdown",
   "metadata": {},
   "source": [
    "## Import Reflection Data to Dataframe"
   ]
  },
  {
   "cell_type": "code",
   "execution_count": 2,
   "metadata": {},
   "outputs": [
    {
     "data": {
      "text/html": [
       "<div>\n",
       "<style scoped>\n",
       "    .dataframe tbody tr th:only-of-type {\n",
       "        vertical-align: middle;\n",
       "    }\n",
       "\n",
       "    .dataframe tbody tr th {\n",
       "        vertical-align: top;\n",
       "    }\n",
       "\n",
       "    .dataframe thead th {\n",
       "        text-align: right;\n",
       "    }\n",
       "</style>\n",
       "<table border=\"1\" class=\"dataframe\">\n",
       "  <thead>\n",
       "    <tr style=\"text-align: right;\">\n",
       "      <th></th>\n",
       "      <th>name</th>\n",
       "      <th>4134404: Are you up-to-date with the class activities?</th>\n",
       "      <th>4134405: Do you like the current pace of the class?</th>\n",
       "      <th>4134406: The lecture activities are useful!</th>\n",
       "      <th>4134407: The class time is efficiently used</th>\n",
       "      <th>4134408: Overall, I have learned some modeling, some agile, and also working with open source projects.</th>\n",
       "      <th>4134409: How can this class be more efficient to you?</th>\n",
       "    </tr>\n",
       "  </thead>\n",
       "  <tbody>\n",
       "    <tr>\n",
       "      <th>0</th>\n",
       "      <td>*****</td>\n",
       "      <td>No</td>\n",
       "      <td>pace is ok for me</td>\n",
       "      <td>I totally agree</td>\n",
       "      <td>I agree</td>\n",
       "      <td>I agree</td>\n",
       "      <td>using and downloading python and pycharm and e...</td>\n",
       "    </tr>\n",
       "    <tr>\n",
       "      <th>1</th>\n",
       "      <td>*****</td>\n",
       "      <td>No</td>\n",
       "      <td>pace is too fast</td>\n",
       "      <td>I mostly agree</td>\n",
       "      <td>I agree</td>\n",
       "      <td>I agree</td>\n",
       "      <td>lass homework and less informaton in the short...</td>\n",
       "    </tr>\n",
       "    <tr>\n",
       "      <th>2</th>\n",
       "      <td>*****</td>\n",
       "      <td>No</td>\n",
       "      <td>pace is ok for me</td>\n",
       "      <td>I mostly agree</td>\n",
       "      <td>I agree</td>\n",
       "      <td>I agree</td>\n",
       "      <td>I'm not sure if there are any changes that can...</td>\n",
       "    </tr>\n",
       "    <tr>\n",
       "      <th>3</th>\n",
       "      <td>*****</td>\n",
       "      <td>No</td>\n",
       "      <td>pace is too fast</td>\n",
       "      <td>I mostly agree</td>\n",
       "      <td>I agree</td>\n",
       "      <td>I agree</td>\n",
       "      <td>I think everything the class offers, the avail...</td>\n",
       "    </tr>\n",
       "    <tr>\n",
       "      <th>4</th>\n",
       "      <td>*****</td>\n",
       "      <td>No</td>\n",
       "      <td>pace is too fast</td>\n",
       "      <td>I mostly agree</td>\n",
       "      <td>I agree</td>\n",
       "      <td>I disagree</td>\n",
       "      <td>The class is efficient, I just have trouble ke...</td>\n",
       "    </tr>\n",
       "  </tbody>\n",
       "</table>\n",
       "</div>"
      ],
      "text/plain": [
       "    name 4134404: Are you up-to-date with the class activities?  \\\n",
       "0  *****                                                 No       \n",
       "1  *****                                                 No       \n",
       "2  *****                                                 No       \n",
       "3  *****                                                 No       \n",
       "4  *****                                                 No       \n",
       "\n",
       "  4134405: Do you like the current pace of the class?  \\\n",
       "0                                  pace is ok for me    \n",
       "1                                   pace is too fast    \n",
       "2                                  pace is ok for me    \n",
       "3                                   pace is too fast    \n",
       "4                                   pace is too fast    \n",
       "\n",
       "  4134406: The lecture activities are useful!  \\\n",
       "0                             I totally agree   \n",
       "1                              I mostly agree   \n",
       "2                              I mostly agree   \n",
       "3                              I mostly agree   \n",
       "4                              I mostly agree   \n",
       "\n",
       "  4134407: The class time is efficiently used  \\\n",
       "0                                     I agree   \n",
       "1                                     I agree   \n",
       "2                                     I agree   \n",
       "3                                     I agree   \n",
       "4                                     I agree   \n",
       "\n",
       "  4134408: Overall, I have learned some modeling, some agile, and also working with open source projects.  \\\n",
       "0                                            I agree                                                        \n",
       "1                                            I agree                                                        \n",
       "2                                            I agree                                                        \n",
       "3                                            I agree                                                        \n",
       "4                                         I disagree                                                        \n",
       "\n",
       "  4134409: How can this class be more efficient to you?  \n",
       "0  using and downloading python and pycharm and e...     \n",
       "1  lass homework and less informaton in the short...     \n",
       "2  I'm not sure if there are any changes that can...     \n",
       "3  I think everything the class offers, the avail...     \n",
       "4  The class is efficient, I just have trouble ke...     "
      ]
     },
     "execution_count": 2,
     "metadata": {},
     "output_type": "execute_result"
    }
   ],
   "source": [
    "df = pd.read_csv(\"CheckPoint1 Survey Student Analysis Report.csv\")\n",
    "\n",
    "#Anonymize\n",
    "df['name'] = '*****'\n",
    "\n",
    "\n",
    "df.head(5)"
   ]
  },
  {
   "cell_type": "markdown",
   "metadata": {},
   "source": [
    "## CampusWire Engagement Analysis"
   ]
  },
  {
   "cell_type": "code",
   "execution_count": 4,
   "metadata": {},
   "outputs": [
    {
     "data": {
      "text/plain": [
       "count     108\n",
       "unique      2\n",
       "top       Yes\n",
       "freq       95\n",
       "Name: 4134404: Are you up-to-date with the class activities?, dtype: object"
      ]
     },
     "execution_count": 4,
     "metadata": {},
     "output_type": "execute_result"
    }
   ],
   "source": [
    "df[\"4134404: Are you up-to-date with the class activities?\"].describe()"
   ]
  },
  {
   "cell_type": "code",
   "execution_count": 5,
   "metadata": {},
   "outputs": [
    {
     "name": "stdout",
     "output_type": "stream",
     "text": [
      "{'No': 13, 'Yes': 95}\n"
     ]
    }
   ],
   "source": [
    "summary = dict()\n",
    "for each in df.iloc[0:, 1]:\n",
    "    if each not in summary.keys():\n",
    "        summary[each] = 1\n",
    "    else:\n",
    "        summary[each] += 1\n",
    "print(summary)"
   ]
  },
  {
   "cell_type": "code",
   "execution_count": 6,
   "metadata": {},
   "outputs": [
    {
     "data": {
      "image/png": "[encoded data removed]",
      "text/plain": [
       "<Figure size 432x288 with 1 Axes>"
      ]
     },
     "metadata": {},
     "output_type": "display_data"
    }
   ],
   "source": [
    "sizes = list(summary.values())\n",
    "labels = list(summary.keys())\n",
    "fig2, ax2 = plt.subplots()\n",
    "ax2.pie(sizes, labels=labels, autopct='%1.1f%%', shadow=False, startangle=90)\n",
    "ax2.axis('equal')\n",
    "plt.show()"
   ]
  },
  {
   "cell_type": "code",
   "execution_count": 7,
   "metadata": {},
   "outputs": [
    {
     "data": {
      "text/plain": [
       "count                   108\n",
       "unique                    3\n",
       "top       pace is ok for me\n",
       "freq                     80\n",
       "Name: 4134405: Do you like the current pace of the class?, dtype: object"
      ]
     },
     "execution_count": 7,
     "metadata": {},
     "output_type": "execute_result"
    }
   ],
   "source": [
    "df[\"4134405: Do you like the current pace of the class?\"].describe()"
   ]
  },
  {
   "cell_type": "code",
   "execution_count": 8,
   "metadata": {},
   "outputs": [
    {
     "name": "stdout",
     "output_type": "stream",
     "text": [
      "{'pace is ok for me': 80, 'pace is too fast': 26, 'pace is too slow': 2}\n"
     ]
    }
   ],
   "source": [
    "summary = dict()\n",
    "for each in df.iloc[0:, 2]:\n",
    "    if each not in summary.keys():\n",
    "        summary[each] = 1\n",
    "    else:\n",
    "        summary[each] += 1\n",
    "print(summary)"
   ]
  },
  {
   "cell_type": "code",
   "execution_count": 9,
   "metadata": {},
   "outputs": [
    {
     "data": {
      "image/png": "[encoded data removed]",
      "text/plain": [
       "<Figure size 432x288 with 1 Axes>"
      ]
     },
     "metadata": {},
     "output_type": "display_data"
    }
   ],
   "source": [
    "sizes = list(summary.values())\n",
    "labels = list(summary.keys())\n",
    "fig2, ax2 = plt.subplots()\n",
    "ax2.pie(sizes, labels=labels, autopct='%1.1f%%', shadow=False, startangle=90)\n",
    "ax2.axis('equal')\n",
    "plt.show()\n",
    "\n"
   ]
  },
  {
   "cell_type": "code",
   "execution_count": 10,
   "metadata": {},
   "outputs": [
    {
     "data": {
      "text/plain": [
       "count                108\n",
       "unique                 4\n",
       "top       I mostly agree\n",
       "freq                  70\n",
       "Name: 4134406: The lecture activities are useful!, dtype: object"
      ]
     },
     "execution_count": 10,
     "metadata": {},
     "output_type": "execute_result"
    }
   ],
   "source": [
    "df[\"4134406: The lecture activities are useful!\"].describe()"
   ]
  },
  {
   "cell_type": "code",
   "execution_count": 11,
   "metadata": {},
   "outputs": [
    {
     "name": "stdout",
     "output_type": "stream",
     "text": [
      "{'I totally agree': 19, 'I mostly agree': 70, 'I mostly disagree': 17, 'I totally diagree': 2}\n"
     ]
    }
   ],
   "source": [
    "summary = dict()\n",
    "for each in df.iloc[0:, 3]:\n",
    "    if each not in summary.keys():\n",
    "        summary[each] = 1\n",
    "    else:\n",
    "        summary[each] += 1\n",
    "print(summary)"
   ]
  },
  {
   "cell_type": "code",
   "execution_count": 13,
   "metadata": {},
   "outputs": [
    {
     "data": {
      "image/png": "[encoded data removed]",
      "text/plain": [
       "<Figure size 432x288 with 1 Axes>"
      ]
     },
     "metadata": {},
     "output_type": "display_data"
    }
   ],
   "source": [
    "sizes = list(summary.values())\n",
    "labels = list(summary.keys())\n",
    "fig2, ax2 = plt.subplots()\n",
    "ax2.pie(sizes, labels=labels, autopct='%1.1f%%', shadow=False, startangle=90)\n",
    "ax2.axis('equal')\n",
    "plt.show()"
   ]
  },
  {
   "cell_type": "code",
   "execution_count": 14,
   "metadata": {},
   "outputs": [
    {
     "data": {
      "text/plain": [
       "count         108\n",
       "unique          2\n",
       "top       I agree\n",
       "freq           86\n",
       "Name: 4134407: The class time is efficiently used, dtype: object"
      ]
     },
     "execution_count": 14,
     "metadata": {},
     "output_type": "execute_result"
    }
   ],
   "source": [
    "df[\"4134407: The class time is efficiently used\"].describe()"
   ]
  },
  {
   "cell_type": "code",
   "execution_count": 15,
   "metadata": {},
   "outputs": [
    {
     "name": "stdout",
     "output_type": "stream",
     "text": [
      "{'I agree': 86, 'I disagree': 22}\n"
     ]
    }
   ],
   "source": [
    "summary = dict()\n",
    "for each in df.iloc[0:, 4]:\n",
    "    if each not in summary.keys():\n",
    "        summary[each] = 1\n",
    "    else:\n",
    "        summary[each] += 1\n",
    "print(summary)"
   ]
  },
  {
   "cell_type": "code",
   "execution_count": 16,
   "metadata": {},
   "outputs": [
    {
     "data": {
      "image/png": "[encoded data removed]",
      "text/plain": [
       "<Figure size 432x288 with 1 Axes>"
      ]
     },
     "metadata": {},
     "output_type": "display_data"
    }
   ],
   "source": [
    "sizes = list(summary.values())\n",
    "labels = list(summary.keys())\n",
    "fig2, ax2 = plt.subplots()\n",
    "ax2.pie(sizes, labels=labels, autopct='%1.1f%%', shadow=False, startangle=90)\n",
    "ax2.axis('equal')\n",
    "plt.show()"
   ]
  },
  {
   "cell_type": "code",
   "execution_count": 17,
   "metadata": {},
   "outputs": [
    {
     "data": {
      "text/plain": [
       "count         108\n",
       "unique          2\n",
       "top       I agree\n",
       "freq          104\n",
       "Name: 4134408: Overall, I have learned some modeling, some agile, and also working with open source projects., dtype: object"
      ]
     },
     "execution_count": 17,
     "metadata": {},
     "output_type": "execute_result"
    }
   ],
   "source": [
    "df[\"4134408: Overall, I have learned some modeling, some agile, and also working with open source projects.\"].describe()"
   ]
  },
  {
   "cell_type": "code",
   "execution_count": 18,
   "metadata": {},
   "outputs": [
    {
     "name": "stdout",
     "output_type": "stream",
     "text": [
      "{'I agree': 104, 'I disagree': 4}\n"
     ]
    }
   ],
   "source": [
    "summary = dict()\n",
    "for each in df.iloc[0:, 5]:\n",
    "    if each not in summary.keys():\n",
    "        summary[each] = 1\n",
    "    else:\n",
    "        summary[each] += 1\n",
    "print(summary)"
   ]
  },
  {
   "cell_type": "code",
   "execution_count": 19,
   "metadata": {},
   "outputs": [
    {
     "data": {
      "image/png": "[encoded data removed]",
      "text/plain": [
       "<Figure size 432x288 with 1 Axes>"
      ]
     },
     "metadata": {},
     "output_type": "display_data"
    }
   ],
   "source": [
    "sizes = list(summary.values())\n",
    "labels = list(summary.keys())\n",
    "fig2, ax2 = plt.subplots()\n",
    "ax2.pie(sizes, labels=labels, autopct='%1.1f%%', shadow=False, startangle=90)\n",
    "ax2.axis('equal')\n",
    "plt.show()"
   ]
  },
  {
   "cell_type": "markdown",
   "metadata": {},
   "source": [
    "## Prep work Completion"
   ]
  },
  {
   "cell_type": "code",
   "execution_count": 7,
   "metadata": {},
   "outputs": [
    {
     "data": {
      "text/plain": [
       "count     103\n",
       "unique      2\n",
       "top       Yes\n",
       "freq       95\n",
       "Name: Q1: Did you go through all of the readings and resources on Requirements?, dtype: object"
      ]
     },
     "execution_count": 7,
     "metadata": {},
     "output_type": "execute_result"
    }
   ],
   "source": [
    "df[\"Q1: Did you go through all of the readings and resources on Requirements?\"].describe()"
   ]
  },
  {
   "cell_type": "code",
   "execution_count": 8,
   "metadata": {},
   "outputs": [
    {
     "name": "stdout",
     "output_type": "stream",
     "text": [
      "{'No': 8, 'Yes': 95}\n"
     ]
    }
   ],
   "source": [
    "summary = dict()\n",
    "for each in df.iloc[0:, 1]:\n",
    "    if each not in summary.keys():\n",
    "        summary[each] = 1\n",
    "    else:\n",
    "        summary[each] += 1\n",
    "print(summary)"
   ]
  },
  {
   "cell_type": "code",
   "execution_count": 9,
   "metadata": {},
   "outputs": [
    {
     "data": {
      "image/png": "[encoded data removed]",
      "text/plain": [
       "<Figure size 432x288 with 1 Axes>"
      ]
     },
     "metadata": {},
     "output_type": "display_data"
    }
   ],
   "source": [
    "sizes = list(summary.values())\n",
    "labels = list(summary.keys())\n",
    "fig2, ax2 = plt.subplots()\n",
    "ax2.pie(sizes, labels=labels, autopct='%1.1f%%', shadow=False, startangle=90)\n",
    "ax2.axis('equal')\n",
    "plt.show()"
   ]
  },
  {
   "cell_type": "code",
   "execution_count": 10,
   "metadata": {},
   "outputs": [
    {
     "data": {
      "text/plain": [
       "count     103\n",
       "unique      2\n",
       "top       Yes\n",
       "freq       86\n",
       "Name: Q2: Did you go through all of the readings and resources on Modeling (DFD)?, dtype: object"
      ]
     },
     "execution_count": 10,
     "metadata": {},
     "output_type": "execute_result"
    }
   ],
   "source": [
    "df[\"Q2: Did you go through all of the readings and resources on Modeling (DFD)?\"].describe()"
   ]
  },
  {
   "cell_type": "code",
   "execution_count": 11,
   "metadata": {},
   "outputs": [
    {
     "name": "stdout",
     "output_type": "stream",
     "text": [
      "{'No': 17, 'Yes': 86}\n"
     ]
    }
   ],
   "source": [
    "summary2 = dict()\n",
    "for each in df.iloc[0:, 2]:\n",
    "    if each not in summary2.keys():\n",
    "        summary2[each] = 1\n",
    "    else:\n",
    "        summary2[each] += 1\n",
    "print(summary2)"
   ]
  },
  {
   "cell_type": "code",
   "execution_count": 12,
   "metadata": {},
   "outputs": [
    {
     "data": {
      "image/png": "[encoded data removed]",
      "text/plain": [
       "<Figure size 432x288 with 1 Axes>"
      ]
     },
     "metadata": {},
     "output_type": "display_data"
    }
   ],
   "source": [
    "sizes2 = list(summary2.values())\n",
    "labels2 = list(summary2.keys())\n",
    "fig2_2, ax2_2 = plt.subplots()\n",
    "ax2_2.pie(sizes2, labels=labels2, autopct='%1.1f%%', shadow=False, startangle=90)\n",
    "ax2_2.axis('equal')\n",
    "plt.show()"
   ]
  },
  {
   "cell_type": "code",
   "execution_count": 13,
   "metadata": {},
   "outputs": [
    {
     "data": {
      "text/plain": [
       "count     103\n",
       "unique      2\n",
       "top       Yes\n",
       "freq       88\n",
       "Name: Q4: Did you feel prepared for this week's class activities?, dtype: object"
      ]
     },
     "execution_count": 13,
     "metadata": {},
     "output_type": "execute_result"
    }
   ],
   "source": [
    "df[\"Q4: Did you feel prepared for this week's class activities?\"].describe()"
   ]
  },
  {
   "cell_type": "code",
   "execution_count": 14,
   "metadata": {},
   "outputs": [
    {
     "name": "stdout",
     "output_type": "stream",
     "text": [
      "{'No': 15, 'Yes': 88}\n"
     ]
    }
   ],
   "source": [
    "summary3 = dict()\n",
    "for each in df.iloc[0:, 4]:\n",
    "    if each not in summary3.keys():\n",
    "        summary3[each] = 1\n",
    "    else:\n",
    "        summary3[each] += 1\n",
    "print(summary3)"
   ]
  },
  {
   "cell_type": "code",
   "execution_count": 15,
   "metadata": {},
   "outputs": [
    {
     "data": {
      "image/png": "[encoded data removed]",
      "text/plain": [
       "<Figure size 432x288 with 1 Axes>"
      ]
     },
     "metadata": {},
     "output_type": "display_data"
    }
   ],
   "source": [
    "sizes3 = list(summary3.values())\n",
    "labels3 = list(summary3.keys())\n",
    "fig2_3, ax2_3 = plt.subplots()\n",
    "ax2_3.pie(sizes3, labels=labels3, autopct='%1.1f%%', shadow=False, startangle=90)\n",
    "ax2_3.axis('equal')\n",
    "plt.show()"
   ]
  },
  {
   "cell_type": "markdown",
   "metadata": {},
   "source": [
    "## Student Challenges Analysis"
   ]
  },
  {
   "cell_type": "code",
   "execution_count": 16,
   "metadata": {},
   "outputs": [
    {
     "name": "stdout",
     "output_type": "stream",
     "text": [
      "{'time managment': 1, 'short time': 1, 'more-so': 1, 'time management': 20, 'large assignments': 2, 'biggest': 1, 'early spring': 1, 'good work schedule': 1, 'mild surprise': 1, 'question quizzes': 1, 'depressive episode': 1, 'balancing': 1, 'reasonable plans': 1, 'individual work vs group work': 1, 'online format': 1, 'agile workflow': 1, 'group dynamics': 1, 'group work': 3, 'massive disadvantage': 1, 'trying': 2, 'group project': 1, 'new group': 1, 'motivation': 7, 'prep work': 5, 'hard time understanding': 1, 'additional resources': 1, \"class 's fault\": 1, 'assignments stack': 1, 'team work': 1, 'specific quiz questions': 1, 'studying': 1, 'honestly': 1, 'large readings': 1, 'assignment': 1, 'lots': 1, \"i 'm\": 1, 'full-time': 1, 'multiple group projects': 1, 'group projects': 1, 'bit better.â': 1, 'based': 1, 'current courseload': 1, 'complete work': 1, 'complete assignments': 2, 'staying': 2, 'entire lecture': 1, 'certain topics': 1, 'excessive': 1, 'time issues': 1, 'future assignments': 1, 'practice problems': 1, 'turning assignments': 1, \"ca n't\": 2, 'focus': 1, 'grasp concepts': 1, 'due dates': 5, 'couple classes': 1, \"n't work\": 2, 'tough habit': 1, 'course content': 1, 'set': 2, 'potential group members': 1, 'different schedules': 1, 'contact information': 1, 'final project.â': 1, 'brother': 1, 'new concepts': 1, 'making': 1, 'double check': 1, \"wo n't\": 1, 'spring break.â': 1, \"'m learning\": 1, \"'m passionate\": 1, 'new computer parts': 1, 'fix it.â': 1, 'time managementâ': 1, 'collaborative class': 1, 'course objectives': 1, 'new information': 1, 'manageable chunks': 1, 'currently': 2, 'group members': 1, 'data camp activities': 1, 'online classes': 1, 'in-person classes': 1, 'module layout': 1, 'due soon/what': 1, 'management': 2, 'work load': 1, 'html/css quiz': 1, 'active learner.â': 1, 'certain days': 1, 'certain classes': 1, 'old concepts': 1, 'finding': 2, 'team mates': 1, 'entire week': 1, 'working': 1, 'mental health problems': 1, 'free time besides': 1, 'work beforehand': 1, 'large chunks': 1, 'participation': 1, 'keeping': 1, 'javascript cssâ': 1, 'large individual assignments': 1, 'video material': 1, 'specific sections': 1, 'assignment goals': 1, 'small study/work sessions': 1, 'finish assignments': 1, 'long time': 1, 'prep': 1, 'multiple quizzes': 1, 'good thing': 1, 'asynchronous setup': 1, 'person classes': 1, 'february': 1, 'huge pile': 1, 'test days': 1, 'iâ€™m': 1, 'dfd': 1, 'context diagram': 1, 'software requirements': 1, 'contains user requirements': 1, 'karl weigers': 1, 'requirements.â â': 1, 'managment': 1, 'understanding': 1, 'group formation': 1, 'group preference': 1, 'entire assignment': 1, 'learning html/javascript/css/python': 1, 'massive work load': 1, 'timing': 1, 'thank': 1, 'class currently.â': 1, 'inappropriate arrangements': 1, 'online schooling': 1, 'javascript quizzes': 1, 'course work': 1, 'beginning assignments': 1, 'organized.â â': 1}\n"
     ]
    }
   ],
   "source": [
    "#Using noun extraction:\n",
    "nouns = dict()\n",
    "for student in df.iloc[0:, 6]:\n",
    "    if student is np.nan:\n",
    "        continue\n",
    "    blob = TextBlob(student)\n",
    "    for noun in blob.noun_phrases:\n",
    "        if noun not in nouns.keys():\n",
    "            nouns[noun] = 1\n",
    "        else:\n",
    "            nouns[noun] += 1\n",
    "print(nouns)"
   ]
  },
  {
   "cell_type": "code",
   "execution_count": 17,
   "metadata": {},
   "outputs": [
    {
     "name": "stdout",
     "output_type": "stream",
     "text": [
      "Common challenges:\n",
      "time management: 20 instances\n",
      "group work: 3 instances\n",
      "motivation: 7 instances\n",
      "prep work: 5 instances\n",
      "due dates: 5 instances\n"
     ]
    }
   ],
   "source": [
    "print('Common challenges:') #possible improvements: make the threshold variable using mean # of instances (may not scale well)\n",
    "for noun in nouns:\n",
    "    if nouns[noun] > 2:\n",
    "        print(noun + ': ' + str(nouns[noun]) + \" instances\")"
   ]
  },
  {
   "cell_type": "markdown",
   "metadata": {},
   "source": [
    "## Student thoughts on Reading and Videos"
   ]
  },
  {
   "cell_type": "code",
   "execution_count": 18,
   "metadata": {},
   "outputs": [
    {
     "name": "stdout",
     "output_type": "stream",
     "text": [
      "{'pretty lackluster': 1, 'previous classes': 1, 'new thing': 1, 'data flow diagrams': 2, 'long time': 1, \"module 's work\": 1, 'video': 1, \"module 's readings\": 1, \"week 's module\": 2, 'sommerville': 1, 'personally': 2, 'visual learning': 1, 'shorter videos': 3, 'pretty concise': 1, 'general stuff': 1, 'forty minute video': 1, 'clear view': 1, \"wo n't\": 2, 'pause whenever': 1, 'trouble processing': 1, 'certain concepts concepts': 1, 'user stories': 6, 'long video': 1, 'lot ...': 1, 'great video choice': 1, 'discussion layout': 1, 'concise ones': 1, 'modules': 1, 'canvas': 1, 'bit laborious': 1, 'user requirements': 1, 'agile process': 1, 'idea applies': 1, 'odd format': 1, 'pdf': 1, \"book i 've\": 1, 'poor image quality': 1, 'dry narration': 1, 'valuable information': 1, 'helpful': 1, 'right now.â': 1, 'development practices': 1, 'common sense': 1, 'steady incremental': 1, 'somerville': 2, 'visual learner': 1, 'difficulty reading': 1, 'previous weeks': 1, 'time learning': 1, 'agile method work flow': 1, 'helpful inâ': 1, 'relevant material': 1, 'azure sky': 1, 'deepest summer': 1, 'easy-to-understand way': 1, 'in-depth understanding': 1, 'textbook readings': 1, 'pretty helpful': 2, 'dry': 1, 'relevant info': 1, 'extra information': 1, 'abit dry': 1, 'youtube clips': 1, 'specific examples': 1, 'presentation style': 1, 'select amount': 1, 'user input': 1, 'ation vs organi': 1, 'video format': 1, 'follow-up assignment': 1, 'multiple times': 1, 'specific thing': 1, 'shorter ones': 1, 'shorter content': 1, 'longform lecture videos': 1, 'css/html/javascript': 1, 'w3 site': 1, 'clear whenever': 1, \"n't care\": 1, \"wo n't load\": 1, 'software engineer': 1, 'reading parts': 1, 'readings helpful': 1, 'honestly': 1, 'video quizzes': 1, 'necessary information.â': 1, 'html/css': 1, 'javascript': 1, 'python.â': 1, 'video style': 1, 'own time': 1, 'great user stories': 1, 'rapid software development.â': 1, 'understandable manner': 1, 'specific topics': 1, 'week module': 1, 'especially': 1, 'context diagram.â': 1, 'interesting': 2, 'bit dry.â': 1, 'assignment': 1, 'important ideas': 1, 'quick information.â': 1, 'test questions': 1, 'useful': 1, 'hands-on activity': 1, 'new concepts': 1, '1.5-2x speed': 1, 'in-depth detail': 1, 'agile development processes': 1}\n"
     ]
    }
   ],
   "source": [
    "#Attempt same noun extraction as before\n",
    "nouns2 = dict()\n",
    "for student in df.iloc[0:, 7]:\n",
    "    if student is np.nan:\n",
    "        continue\n",
    "    blob2 = TextBlob(student)\n",
    "    for noun in blob2.noun_phrases:\n",
    "        if noun not in nouns2.keys():\n",
    "            nouns2[noun] = 1\n",
    "        else:\n",
    "            nouns2[noun] += 1\n",
    "print(nouns2)"
   ]
  },
  {
   "cell_type": "code",
   "execution_count": 19,
   "metadata": {},
   "outputs": [
    {
     "name": "stdout",
     "output_type": "stream",
     "text": [
      "Common solutions:\n",
      "shorter videos: 3 instances\n",
      "user stories: 6 instances\n"
     ]
    }
   ],
   "source": [
    "print('Common solutions:')\n",
    "for noun in nouns2:\n",
    "    if nouns2[noun] > 2:\n",
    "        print(noun + ': ' + str(nouns2[noun]) + \" instances\")"
   ]
  },
  {
   "cell_type": "markdown",
   "metadata": {},
   "source": [
    "## Sentiment analysis"
   ]
  },
  {
   "cell_type": "markdown",
   "metadata": {},
   "source": [
    "Sentiment ranges from -1 to 1, where -1 is most negative and 1 is most positive. Scores taken from the average of sentiments from both free response questions."
   ]
  },
  {
   "cell_type": "code",
   "execution_count": 16,
   "metadata": {},
   "outputs": [
    {
     "data": {
      "image/png": "[encoded data removed]",
      "text/plain": [
       "<Figure size 648x432 with 1 Axes>"
      ]
     },
     "metadata": {
      "needs_background": "light"
     },
     "output_type": "display_data"
    }
   ],
   "source": [
    "sid = SentimentIntensityAnalyzer()\n",
    "sentiment = []\n",
    "for response1 in zip(df.iloc[0:, 6]):\n",
    "    if response1 is np.nan:\n",
    "        continue\n",
    "    else:\n",
    "        sent1 = sid.polarity_scores(str(response1))\n",
    "        #sent2 = sid.polarity_scores(response2)\n",
    "        sentAve = (sent1[\"compound\"])\n",
    "        #+sent2[\"compound\"])/2\n",
    "        sentiment.append(sentAve)\n",
    "fig1 = plt.figure(1, figsize = (9, 6))\n",
    "ax1 = fig1.add_subplot(111)\n",
    "ax1.set_ylabel('3155 Spring 2021 Checkpoint sentiment')\n",
    "fig1.suptitle('Student Sentiment')\n",
    "boxplot1 = ax1.boxplot(sentiment)"
   ]
  },
  {
   "cell_type": "code",
   "execution_count": 17,
   "metadata": {},
   "outputs": [
    {
     "data": {
      "text/html": [
       "<div>\n",
       "<style scoped>\n",
       "    .dataframe tbody tr th:only-of-type {\n",
       "        vertical-align: middle;\n",
       "    }\n",
       "\n",
       "    .dataframe tbody tr th {\n",
       "        vertical-align: top;\n",
       "    }\n",
       "\n",
       "    .dataframe thead th {\n",
       "        text-align: right;\n",
       "    }\n",
       "</style>\n",
       "<table border=\"1\" class=\"dataframe\">\n",
       "  <thead>\n",
       "    <tr style=\"text-align: right;\">\n",
       "      <th></th>\n",
       "      <th>0</th>\n",
       "    </tr>\n",
       "  </thead>\n",
       "  <tbody>\n",
       "    <tr>\n",
       "      <th>count</th>\n",
       "      <td>108.000000</td>\n",
       "    </tr>\n",
       "    <tr>\n",
       "      <th>mean</th>\n",
       "      <td>0.302094</td>\n",
       "    </tr>\n",
       "    <tr>\n",
       "      <th>std</th>\n",
       "      <td>0.345795</td>\n",
       "    </tr>\n",
       "    <tr>\n",
       "      <th>min</th>\n",
       "      <td>-0.677800</td>\n",
       "    </tr>\n",
       "    <tr>\n",
       "      <th>25%</th>\n",
       "      <td>0.000000</td>\n",
       "    </tr>\n",
       "    <tr>\n",
       "      <th>50%</th>\n",
       "      <td>0.386850</td>\n",
       "    </tr>\n",
       "    <tr>\n",
       "      <th>75%</th>\n",
       "      <td>0.510600</td>\n",
       "    </tr>\n",
       "    <tr>\n",
       "      <th>max</th>\n",
       "      <td>0.935000</td>\n",
       "    </tr>\n",
       "  </tbody>\n",
       "</table>\n",
       "</div>"
      ],
      "text/plain": [
       "                0\n",
       "count  108.000000\n",
       "mean     0.302094\n",
       "std      0.345795\n",
       "min     -0.677800\n",
       "25%      0.000000\n",
       "50%      0.386850\n",
       "75%      0.510600\n",
       "max      0.935000"
      ]
     },
     "execution_count": 17,
     "metadata": {},
     "output_type": "execute_result"
    }
   ],
   "source": [
    "df2 = pd.DataFrame(sentiment)\n",
    "df2.describe()"
   ]
  },
  {
   "cell_type": "markdown",
   "metadata": {},
   "source": [
    "## WordClouds:"
   ]
  },
  {
   "cell_type": "markdown",
   "metadata": {},
   "source": [
    "### Student Challenges"
   ]
  },
  {
   "cell_type": "code",
   "execution_count": 23,
   "metadata": {},
   "outputs": [
    {
     "data": {
      "image/png": "[encoded data removed]",
      "text/plain": [
       "<Figure size 432x288 with 1 Axes>"
      ]
     },
     "metadata": {
      "needs_background": "light"
     },
     "output_type": "display_data"
    },
    {
     "data": {
      "text/plain": [
       "<wordcloud.wordcloud.WordCloud at 0x16418422da0>"
      ]
     },
     "execution_count": 23,
     "metadata": {},
     "output_type": "execute_result"
    }
   ],
   "source": [
    "words = \"\"\n",
    "for challenge in df.iloc[0:, 6]:\n",
    "    if challenge is np.nan:\n",
    "        continue\n",
    "    words += (challenge + \" \")\n",
    "wordcloud = WordCloud(max_font_size=50, max_words=100, background_color=\"white\").generate(words)\n",
    "plt.figure()\n",
    "plt.imshow(wordcloud, interpolation=\"bilinear\")\n",
    "plt.axis(\"off\")\n",
    "plt.show()\n",
    "wordcloud.to_file(\"StudentChallengesWordCloud.png\")"
   ]
  },
  {
   "cell_type": "markdown",
   "metadata": {},
   "source": [
    "### Student thoughts on Reading/Video"
   ]
  },
  {
   "cell_type": "code",
   "execution_count": 24,
   "metadata": {},
   "outputs": [
    {
     "data": {
      "image/png": "[encoded data removed]",
      "text/plain": [
       "<Figure size 432x288 with 1 Axes>"
      ]
     },
     "metadata": {
      "needs_background": "light"
     },
     "output_type": "display_data"
    },
    {
     "data": {
      "text/plain": [
       "<wordcloud.wordcloud.WordCloud at 0x164183bc668>"
      ]
     },
     "execution_count": 24,
     "metadata": {},
     "output_type": "execute_result"
    }
   ],
   "source": [
    "words = \"\"\n",
    "for soln in df.iloc[0:, 7]:\n",
    "    if soln is np.nan:\n",
    "        continue\n",
    "    words += (soln + \" \")\n",
    "wordcloud2 = WordCloud(max_font_size=50, max_words=100, background_color=\"white\").generate(words)\n",
    "plt.figure()\n",
    "plt.imshow(wordcloud2, interpolation=\"bilinear\")\n",
    "plt.axis(\"off\")\n",
    "plt.show()\n",
    "wordcloud2.to_file(\"StudentSolutionsWordCloud.png\")"
   ]
  },
  {
   "cell_type": "markdown",
   "metadata": {},
   "source": [
    "## N-gram analysis:"
   ]
  },
  {
   "cell_type": "markdown",
   "metadata": {},
   "source": [
    "### Student Challenges:"
   ]
  },
  {
   "cell_type": "code",
   "execution_count": 25,
   "metadata": {},
   "outputs": [
    {
     "name": "stdout",
     "output_type": "stream",
     "text": [
      "Most common 1-grams:\n",
      "study : 6 instances\n",
      "and : 89 instances\n",
      "time : 40 instances\n",
      "much : 11 instances\n",
      "in : 40 instances\n",
      "the : 129 instances\n",
      "I : 186 instances\n",
      "feel : 10 instances\n",
      "like : 10 instances\n",
      "management : 20 instances\n",
      "has : 17 instances\n",
      "been : 22 instances\n",
      "my : 52 instances\n",
      "biggest : 30 instances\n",
      "My : 7 instances\n",
      "other : 12 instances\n",
      "class : 24 instances\n",
      "out : 7 instances\n",
      "assignments : 31 instances\n",
      "that : 28 instances\n",
      "take : 7 instances\n",
      "up : 20 instances\n",
      "a : 54 instances\n",
      "of : 61 instances\n",
      "to : 150 instances\n",
      "complete : 7 instances\n",
      "with : 41 instances\n",
      "classes : 17 instances\n",
      "challenge : 29 instances\n",
      "have : 37 instances\n",
      "faced : 10 instances\n",
      "so : 36 instances\n",
      "far : 22 instances\n",
      "is : 39 instances\n",
      "spring : 10 instances\n",
      "break : 17 instances\n",
      "really : 10 instances\n",
      "schedule : 8 instances\n",
      "was : 17 instances\n",
      "into : 7 instances\n",
      "need : 8 instances\n",
      "work : 48 instances\n",
      "back : 8 instances\n",
      "n't : 19 instances\n",
      "any : 9 instances\n",
      "challenges : 16 instances\n",
      "but : 19 instances\n",
      "from : 11 instances\n",
      "all : 14 instances\n",
      "on : 32 instances\n",
      "days : 8 instances\n",
      "it : 34 instances\n",
      "hard : 9 instances\n",
      "keep : 11 instances\n",
      "them : 8 instances\n",
      "at : 13 instances\n",
      "will : 15 instances\n",
      "week : 14 instances\n",
      "better : 10 instances\n",
      "do : 32 instances\n",
      "be : 18 instances\n",
      "day : 9 instances\n",
      "The : 21 instances\n",
      "not : 21 instances\n",
      "having : 10 instances\n",
      "many : 7 instances\n",
      "because : 9 instances\n",
      "had : 7 instances\n",
      "more : 19 instances\n",
      "difficult : 9 instances\n",
      "'m : 15 instances\n",
      "best : 7 instances\n",
      "are : 15 instances\n",
      "an : 6 instances\n",
      "this : 38 instances\n",
      "There : 7 instances\n",
      "'s : 15 instances\n",
      "these : 9 instances\n",
      "trying : 6 instances\n",
      "making : 7 instances\n",
      "am : 22 instances\n",
      "Â : 7 instances\n",
      "group : 19 instances\n",
      "as : 17 instances\n",
      "think : 12 instances\n",
      "going : 14 instances\n",
      "online : 6 instances\n",
      "just : 22 instances\n",
      "what : 9 instances\n",
      "by : 24 instances\n",
      "Motivation : 7 instances\n",
      "videos : 6 instances\n",
      "course : 12 instances\n",
      "address : 10 instances\n",
      "for : 17 instances\n",
      "Time : 12 instances\n",
      "motivation : 9 instances\n",
      "still : 9 instances\n",
      "get : 14 instances\n",
      "can : 11 instances\n",
      "through : 8 instances\n",
      "ahead : 10 instances\n",
      "bit : 6 instances\n",
      "understand : 6 instances\n",
      "getting : 6 instances\n",
      "before : 7 instances\n",
      "try : 10 instances\n",
      "working : 7 instances\n",
      "sure : 6 instances\n",
      "It : 6 instances\n",
      "if : 9 instances\n",
      "little : 8 instances\n",
      "things : 7 instances\n",
      "due : 15 instances\n",
      "me : 16 instances\n",
      "doing : 7 instances\n",
      "would : 11 instances\n",
      "go : 6 instances\n",
      "lot : 10 instances\n",
      "we : 8 instances\n",
      "\n",
      "Most common 2-grams:\n",
      "in the : 12 instances\n",
      "time management : 13 instances\n",
      "has been : 12 instances\n",
      "my time : 6 instances\n",
      "time to : 8 instances\n",
      "with my : 7 instances\n",
      "I have : 23 instances\n",
      "so far : 15 instances\n",
      "far is : 10 instances\n",
      "of the : 12 instances\n",
      "spring break : 9 instances\n",
      "with the : 9 instances\n",
      "I need : 6 instances\n",
      "need to : 7 instances\n",
      "to keep : 8 instances\n",
      "I will : 8 instances\n",
      "do n't : 9 instances\n",
      "to be : 7 instances\n",
      "that I : 8 instances\n",
      "to do : 12 instances\n",
      "I 'm : 14 instances\n",
      "I am : 22 instances\n",
      "I think : 11 instances\n",
      "going to : 10 instances\n",
      "and I : 7 instances\n",
      "I do : 11 instances\n",
      "it 's : 8 instances\n",
      "The biggest : 13 instances\n",
      "biggest challenge : 24 instances\n",
      "the course : 7 instances\n",
      "assignments and : 6 instances\n",
      "these challenges : 6 instances\n",
      "challenges by : 6 instances\n",
      "the work : 6 instances\n",
      "work and : 6 instances\n",
      "to address : 6 instances\n",
      "Time management : 7 instances\n",
      "the class : 7 instances\n",
      "to get : 10 instances\n",
      "so I : 9 instances\n",
      "I can : 8 instances\n",
      "as I : 7 instances\n",
      "a little : 6 instances\n",
      "the biggest : 7 instances\n",
      "in my : 7 instances\n",
      "to the : 7 instances\n",
      "challenge was : 6 instances\n",
      "I would : 6 instances\n",
      "this week : 6 instances\n",
      "but I : 7 instances\n",
      "a lot : 10 instances\n",
      "lot of : 6 instances\n",
      "this by : 6 instances\n",
      "\n",
      "Most common 3-grams:\n",
      "so far is : 9 instances\n",
      "The biggest challenge : 12 instances\n",
      "these challenges by : 6 instances\n",
      "a lot of : 6 instances\n",
      "\n"
     ]
    }
   ],
   "source": [
    "blobString = \"\"\n",
    "for challenge in df.iloc[0:, 6]:\n",
    "    if challenge is np.nan:\n",
    "        continue\n",
    "    blobString += challenge + \" \"\n",
    "blob = TextBlob(blobString)\n",
    "for nval in range(1, 4):\n",
    "    print(\"Most common \" + str(nval) + \"-grams:\")\n",
    "    gramdict = dict()\n",
    "    for ngram in blob.ngrams(n=nval):\n",
    "        ngramString = \"\"\n",
    "        for each in ngram:\n",
    "            ngramString += each + \" \"\n",
    "        if ngramString not in gramdict.keys():\n",
    "            gramdict[ngramString] = 1\n",
    "        else:\n",
    "            gramdict[ngramString] += 1\n",
    "    for string in gramdict:\n",
    "        if gramdict[string] > 5:\n",
    "            print(string + ': ' + str(gramdict[string]) + \" instances\")\n",
    "    print()"
   ]
  },
  {
   "cell_type": "markdown",
   "metadata": {},
   "source": [
    "### Reading/Video FRQ:"
   ]
  },
  {
   "cell_type": "code",
   "execution_count": 26,
   "metadata": {},
   "outputs": [
    {
     "name": "stdout",
     "output_type": "stream",
     "text": [
      "Most common 1-grams:\n",
      "good : 10 instances\n",
      "all : 9 instances\n",
      "the : 184 instances\n",
      "are : 44 instances\n",
      "so : 20 instances\n",
      "to : 107 instances\n",
      "me : 17 instances\n",
      "and : 117 instances\n",
      "videos : 80 instances\n",
      "very : 29 instances\n",
      "I : 126 instances\n",
      "feel : 7 instances\n",
      "like : 10 instances\n",
      "were : 21 instances\n",
      "with : 19 instances\n",
      "was : 20 instances\n",
      "pretty : 13 instances\n",
      "have : 26 instances\n",
      "been : 13 instances\n",
      "more : 13 instances\n",
      "boring : 8 instances\n",
      "The : 39 instances\n",
      "reading : 24 instances\n",
      "as : 20 instances\n",
      "of : 58 instances\n",
      "it : 43 instances\n",
      "is : 26 instances\n",
      "from : 16 instances\n",
      "material : 10 instances\n",
      "They : 12 instances\n",
      "helpful : 25 instances\n",
      "easy : 9 instances\n",
      "this : 16 instances\n",
      "much : 14 instances\n",
      "too : 9 instances\n",
      "long : 18 instances\n",
      "a : 54 instances\n",
      "time : 12 instances\n",
      "watch : 16 instances\n",
      "through : 11 instances\n",
      "for : 24 instances\n",
      "them : 22 instances\n",
      "readings : 27 instances\n",
      "It : 9 instances\n",
      "be : 26 instances\n",
      "that : 21 instances\n",
      "n't : 17 instances\n",
      "module : 7 instances\n",
      "'s : 13 instances\n",
      "learn : 7 instances\n",
      "lot : 10 instances\n",
      "quizzes : 6 instances\n",
      "find : 22 instances\n",
      "not : 15 instances\n",
      "hard : 7 instances\n",
      "we : 7 instances\n",
      "or : 6 instances\n",
      "than : 9 instances\n",
      "week : 7 instances\n",
      "in : 26 instances\n",
      "but : 23 instances\n",
      "do : 18 instances\n",
      "really : 6 instances\n",
      "they : 16 instances\n",
      "just : 9 instances\n",
      "out : 6 instances\n",
      "going : 6 instances\n",
      "found : 14 instances\n",
      "at : 16 instances\n",
      "times : 6 instances\n",
      "watching : 10 instances\n",
      "video : 13 instances\n",
      "get : 7 instances\n",
      "better : 11 instances\n",
      "understanding : 7 instances\n",
      "well : 7 instances\n",
      "am : 6 instances\n",
      "learning : 10 instances\n",
      "when : 7 instances\n",
      "can : 12 instances\n",
      "bit : 12 instances\n",
      "because : 7 instances\n",
      "on : 13 instances\n",
      "my : 16 instances\n",
      "information : 21 instances\n",
      "far : 7 instances\n",
      "informative : 12 instances\n",
      "concepts : 8 instances\n",
      "questions : 7 instances\n",
      "think : 10 instances\n",
      "some : 7 instances\n",
      "while : 7 instances\n",
      "being : 9 instances\n",
      "user : 6 instances\n",
      "help : 7 instances\n",
      "understand : 13 instances\n",
      "assignments : 8 instances\n",
      "easier : 6 instances\n",
      "content : 6 instances\n",
      "\n",
      "Most common 2-grams:\n",
      "and the : 13 instances\n",
      "the videos : 36 instances\n",
      "videos are : 14 instances\n",
      "videos were : 6 instances\n",
      "have been : 9 instances\n",
      "The reading : 8 instances\n",
      "reading and : 10 instances\n",
      "and videos : 13 instances\n",
      "it is : 6 instances\n",
      "I have : 6 instances\n",
      "from the : 6 instances\n",
      "the material : 6 instances\n",
      "helpful and : 6 instances\n",
      "easy to : 8 instances\n",
      "of the : 22 instances\n",
      "to watch : 10 instances\n",
      "for the : 8 instances\n",
      "that I : 8 instances\n",
      "videos and : 10 instances\n",
      "and readings : 7 instances\n",
      "The videos : 15 instances\n",
      "a lot : 10 instances\n",
      "I find : 13 instances\n",
      "hard to : 7 instances\n",
      "to find : 7 instances\n",
      "I do : 10 instances\n",
      "do n't : 7 instances\n",
      "the readings : 10 instances\n",
      "I found : 13 instances\n",
      "found the : 8 instances\n",
      "to be : 16 instances\n",
      "I am : 6 instances\n",
      "a bit : 10 instances\n",
      "it 's : 7 instances\n",
      "so I : 6 instances\n",
      "I can : 6 instances\n",
      "find the : 10 instances\n",
      "the reading : 9 instances\n",
      "videos to : 7 instances\n",
      "to the : 6 instances\n",
      "I think : 8 instances\n",
      "of them : 6 instances\n",
      "readings and : 8 instances\n",
      "in the : 10 instances\n",
      "the information : 9 instances\n",
      "and I : 9 instances\n",
      "to understand : 6 instances\n",
      "long and : 7 instances\n",
      "very helpful : 8 instances\n",
      "were very : 6 instances\n",
      "\n",
      "Most common 3-grams:\n",
      "and the videos : 6 instances\n",
      "the videos are : 9 instances\n",
      "The reading and : 6 instances\n",
      "videos and readings : 7 instances\n",
      "I found the : 7 instances\n",
      "I find the : 9 instances\n",
      "readings and videos : 7 instances\n",
      "\n"
     ]
    }
   ],
   "source": [
    "blobString = \"\"\n",
    "for soln in df.iloc[0:, 7]:\n",
    "    if soln is np.nan:\n",
    "        continue\n",
    "    blobString += soln + \" \"\n",
    "blob = TextBlob(blobString)\n",
    "for nval in range(1, 4):\n",
    "    print(\"Most common \" + str(nval) + \"-grams:\")\n",
    "    gramdict = dict()\n",
    "    for ngram in blob.ngrams(n=nval):\n",
    "        ngramString = \"\"\n",
    "        for each in ngram:\n",
    "            ngramString += each + \" \"\n",
    "        if ngramString not in gramdict.keys():\n",
    "            gramdict[ngramString] = 1\n",
    "        else:\n",
    "            gramdict[ngramString] += 1\n",
    "    for string in gramdict:\n",
    "        if gramdict[string] > 5:\n",
    "            print(string + ': ' + str(gramdict[string]) + \" instances\")\n",
    "    print()"
   ]
  },
  {
   "cell_type": "markdown",
   "metadata": {},
   "source": [
    "## NGrams with NLTK"
   ]
  },
  {
   "cell_type": "code",
   "execution_count": 5,
   "metadata": {},
   "outputs": [],
   "source": [
    "from nltk.util import ngrams\n",
    "import nltk\n",
    "import re\n"
   ]
  },
  {
   "cell_type": "code",
   "execution_count": 6,
   "metadata": {},
   "outputs": [],
   "source": [
    "def _gram(corpus, num):\n",
    "    grams = ngrams(corpus, num)\n",
    "    grampairs = dict()\n",
    "    \n",
    "    for token in list(grams):\n",
    "        if token not in grampairs.keys():\n",
    "            grampairs[token] = 1\n",
    "        else:\n",
    "            grampairs[token] += 1\n",
    "    lst = sorted(grampairs.items(), key=lambda x: x[1], reverse=True)\n",
    "    return lst"
   ]
  },
  {
   "cell_type": "code",
   "execution_count": 7,
   "metadata": {},
   "outputs": [],
   "source": [
    "def _format(gramlist):\n",
    "    total = 0\n",
    "    formattedlist = []\n",
    "    for pair in gramlist:\n",
    "        total += pair[1]\n",
    "\n",
    "    for pair in gramlist:\n",
    "        newstr = re.sub('[()]', '', str(pair[0])) + \" | \" + str(pair[1]) + \" | \" + str(round((pair[1]/total) * 100,2)) + \"%\"\n",
    "        formattedlist.append(newstr.replace(\"'\",\"\"))\n",
    "        \n",
    "    return formattedlist"
   ]
  },
  {
   "cell_type": "markdown",
   "metadata": {},
   "source": [
    "## Challenges"
   ]
  },
  {
   "cell_type": "code",
   "execution_count": 8,
   "metadata": {},
   "outputs": [],
   "source": [
    "chal_string = \"\"\n",
    "for challenge in df.iloc[0:, 5]:\n",
    "    if challenge is np.nan:\n",
    "        continue\n",
    "    for word in challenge.split():\n",
    "        text = nltk.word_tokenize(word)\n",
    "        pos = nltk.pos_tag(text)\n",
    "        if word.isalpha() and (pos[0][1] == 'NN' or pos[0][1] == 'VB'):\n",
    "            chal_string += word.lower() + \" \"\n",
    "\n",
    "\n",
    "tokenize = nltk.word_tokenize(chal_string)\n",
    "\n",
    "\n",
    "uni = _format(_gram(tokenize, 1))\n",
    "bi = _format(_gram(tokenize, 2))\n",
    "tri = _format(_gram(tokenize, 3))\n",
    "\n",
    "#print(uni)\n",
    "\n",
    "\n",
    "\n",
    "\n",
    "\n",
    "\n",
    "df_grams = pd.DataFrame(list(zip(uni, bi, tri)), columns = ['unigrams/count', 'bigrams/count', 'trigrams/count'])\n",
    "df_grams\n",
    "\n",
    "#Remove comment to download csv file\n",
    "df_grams.to_csv('ngrams_wk4_1.csv')"
   ]
  },
  {
   "cell_type": "markdown",
   "metadata": {},
   "source": [
    "## Readings/Videos"
   ]
  },
  {
   "cell_type": "code",
   "execution_count": 9,
   "metadata": {},
   "outputs": [],
   "source": [
    "chal_string = \"\"\n",
    "for challenge in df.iloc[0:, 6]:\n",
    "    if challenge is np.nan:\n",
    "        continue\n",
    "    for word in challenge.split():\n",
    "        text = nltk.word_tokenize(word)\n",
    "        pos = nltk.pos_tag(text)\n",
    "        if word.isalpha() and (pos[0][1] == 'NN' or pos[0][1] == 'VB'):\n",
    "            chal_string += word.lower() + \" \"\n",
    "\n",
    "\n",
    "tokenize = nltk.word_tokenize(chal_string)\n",
    "\n",
    "\n",
    "uni = _format(_gram(tokenize, 1))\n",
    "bi = _format(_gram(tokenize, 2))\n",
    "tri = _format(_gram(tokenize, 3))\n",
    "\n",
    "df_grams = pd.DataFrame(list(zip(uni, bi, tri)), columns = ['unigrams/count', 'bigrams/count', 'trigrams/count'])\n",
    "df_grams\n",
    "\n",
    "#Remove comment to download csv file\n",
    "df_grams.to_csv('ngrams_wk4_2.csv')"
   ]
  },
  {
   "cell_type": "code",
   "execution_count": 10,
   "metadata": {},
   "outputs": [],
   "source": [
    "chal_string = \"\"\n",
    "for challenge in df.iloc[0:, 7]:\n",
    "    if challenge is np.nan:\n",
    "        continue\n",
    "    for word in challenge.split():\n",
    "        text = nltk.word_tokenize(word)\n",
    "        pos = nltk.pos_tag(text)\n",
    "        if word.isalpha() and (pos[0][1] == 'NN' or pos[0][1] == 'VB'):\n",
    "            chal_string += word.lower() + \" \"\n",
    "\n",
    "\n",
    "tokenize = nltk.word_tokenize(chal_string)\n",
    "\n",
    "\n",
    "uni = _format(_gram(tokenize, 1))\n",
    "bi = _format(_gram(tokenize, 2))\n",
    "tri = _format(_gram(tokenize, 3))\n",
    "\n",
    "df_grams = pd.DataFrame(list(zip(uni, bi, tri)), columns = ['unigrams/count', 'bigrams/count', 'trigrams/count'])\n",
    "df_grams\n",
    "\n",
    "#Remove comment to download csv file\n",
    "df_grams.to_csv('ngrams_wk4_3.csv')"
   ]
  },
  {
   "cell_type": "markdown",
   "metadata": {},
   "source": [
    "## Student Sentiment Tracking"
   ]
  },
  {
   "cell_type": "code",
   "execution_count": null,
   "metadata": {},
   "outputs": [],
   "source": [
    "df2 = pd.read_csv(\"3155 Spr'21 Reflection Data - Week 2.csv\")\n",
    "df2"
   ]
  },
  {
   "cell_type": "code",
   "execution_count": 112,
   "metadata": {},
   "outputs": [],
   "source": [
    "sid = SentimentIntensityAnalyzer()\n",
    "sentiment = dict()\n",
    "\n",
    "\n",
    "sentiment2 = dict()\n",
    "#Week 2 Sentiment\n",
    "for name, response1, response2, response3, response4 in zip(df2.iloc[0:,0], df2.iloc[0:, 4], df2.iloc[0:, 5], df2.iloc[0:,6], df2.iloc[0:,7]):\n",
    "    if response1 is np.nan or response2 is np.nan:\n",
    "        continue\n",
    "    else:\n",
    "        sent1 = sid.polarity_scores(str(response1))\n",
    "        sent2 = sid.polarity_scores(str(response2))\n",
    "        sent3 = sid.polarity_scores(str(response3))\n",
    "        sent4 = sid.polarity_scores(str(response4))\n",
    "        sentAve = (sent1[\"compound\"]+sent2[\"compound\"]+sent3[\"compound\"]+sent4[\"compound\"])/4\n",
    "        sentiment2[name] = sentAve\n",
    "\n",
    "\n",
    "#Week 3 Sentiment\n",
    "for name, response1, response2 in zip(df.iloc[0:,0], df.iloc[0:, 6], df.iloc[0:, 7]):\n",
    "    if response1 is np.nan or response2 is np.nan:\n",
    "        continue\n",
    "    else:\n",
    "        sent1 = sid.polarity_scores(response1)\n",
    "        sent2 = sid.polarity_scores(response2)\n",
    "        sentAve = (sent1[\"compound\"]+sent2[\"compound\"])/2\n",
    "        sentiment[name] = sentAve\n",
    "        \n",
    "\n",
    "\n",
    "df_sentiment = pd.DataFrame(sentiment2.items(), columns=['Student Name', 'Week 2 Sentiment'])\n"
   ]
  },
  {
   "cell_type": "code",
   "execution_count": 118,
   "metadata": {},
   "outputs": [],
   "source": [
    "week3sent = []\n",
    "for name in df_sentiment.iloc[0:,0]:\n",
    "    if name in sentiment.keys():\n",
    "        week3sent.append(sentiment[name])\n",
    "    else:\n",
    "        week3sent.append(\"NaN\")\n",
    "\n",
    "df_sentiment[\"Week 3 Sentiment\"] = week3sent\n",
    "\n",
    "\n",
    "checking = []\n",
    "for week2, week3 in zip(df_sentiment.iloc[0:,1], df_sentiment.iloc[0:, 2]):\n",
    "    if week3 == \"NaN\" or week2 == \"NaN\":\n",
    "        checking.append(\"NaN - Missing data\")\n",
    "        continue\n",
    "        \n",
    "    if week3 < week2:\n",
    "        checking.append(\"Decreased sentiment\")\n",
    "    elif week3 > week2:\n",
    "        checking.append(\"Increased sentiment\")\n",
    "    elif week3 == week2:\n",
    "        checking.append(\"Same sentiment\")\n",
    "\n",
    "        \n",
    "df_sentiment[\"Sentiment Tracking\"] = checking\n",
    "\n",
    "df_sentiment.to_csv('sentiment_tracking.csv')"
   ]
  },
  {
   "cell_type": "code",
   "execution_count": null,
   "metadata": {},
   "outputs": [],
   "source": []
  }
 ],
 "metadata": {
  "kernelspec": {
   "display_name": "Python 3",
   "language": "python",
   "name": "python3"
  },
  "language_info": {
   "codemirror_mode": {
    "name": "ipython",
    "version": 3
   },
   "file_extension": ".py",
   "mimetype": "text/x-python",
   "name": "python",
   "nbconvert_exporter": "python",
   "pygments_lexer": "ipython3",
   "version": "3.7.3"
  }
 },
 "nbformat": 4,
 "nbformat_minor": 2
}
