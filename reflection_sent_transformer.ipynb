{
 "cells": [
  {
   "cell_type": "code",
   "execution_count": 1,
   "metadata": {},
   "outputs": [
    {
     "ename": "ModuleNotFoundError",
     "evalue": "No module named 'sentence_transformers'",
     "output_type": "error",
     "traceback": [
      "\u001b[1;31m---------------------------------------------------------------------------\u001b[0m",
      "\u001b[1;31mModuleNotFoundError\u001b[0m                       Traceback (most recent call last)",
      "\u001b[1;32m<ipython-input-1-7bd3333111c7>\u001b[0m in \u001b[0;36m<module>\u001b[1;34m\u001b[0m\n\u001b[1;32m----> 1\u001b[1;33m \u001b[1;32mfrom\u001b[0m \u001b[0msentence_transformers\u001b[0m \u001b[1;32mimport\u001b[0m \u001b[0mSentenceTransformer\u001b[0m\u001b[1;33m\u001b[0m\u001b[1;33m\u001b[0m\u001b[0m\n\u001b[0m\u001b[0;32m      2\u001b[0m \u001b[0mmodel\u001b[0m \u001b[1;33m=\u001b[0m \u001b[0mSentenceTransformer\u001b[0m\u001b[1;33m(\u001b[0m\u001b[1;34m'paraphrase-distilroberta-base-v1'\u001b[0m\u001b[1;33m)\u001b[0m\u001b[1;33m\u001b[0m\u001b[1;33m\u001b[0m\u001b[0m\n\u001b[0;32m      3\u001b[0m \u001b[1;33m\u001b[0m\u001b[0m\n\u001b[0;32m      4\u001b[0m \u001b[1;32mimport\u001b[0m \u001b[0mpandas\u001b[0m \u001b[1;32mas\u001b[0m \u001b[0mpd\u001b[0m\u001b[1;33m\u001b[0m\u001b[1;33m\u001b[0m\u001b[0m\n\u001b[0;32m      5\u001b[0m \u001b[1;32mimport\u001b[0m \u001b[0mnumpy\u001b[0m \u001b[1;32mas\u001b[0m \u001b[0mnp\u001b[0m\u001b[1;33m\u001b[0m\u001b[1;33m\u001b[0m\u001b[0m\n",
      "\u001b[1;31mModuleNotFoundError\u001b[0m: No module named 'sentence_transformers'"
     ]
    }
   ],
   "source": [
    "from sentence_transformers import SentenceTransformer\n",
    "model = SentenceTransformer('paraphrase-distilroberta-base-v1')\n",
    "\n",
    "import pandas as pd\n",
    "import numpy as np\n",
    "\n",
    "import matplotlib.pyplot as plt\n",
    "import seaborn as sns; sns.set()  # for plot styling\n",
    "import umap\n"
   ]
  },
  {
   "cell_type": "code",
   "execution_count": 11,
   "metadata": {},
   "outputs": [
    {
     "name": "stdout",
     "output_type": "stream",
     "text": [
      "Sentence embeddings:\n",
      "[[-0.06622078  0.64393383 -0.07833593 ...  0.25022     0.34524366\n",
      "  -0.15415968]\n",
      " [-0.25747904  0.24629407  0.09469662 ... -0.14210282  0.14410551\n",
      "   0.51566   ]\n",
      " [ 0.05094916  0.24235822  0.15774004 ... -0.20625325 -0.08491809\n",
      "   0.06364132]]\n"
     ]
    }
   ],
   "source": [
    "from sentence_transformers import SentenceTransformer\n",
    "model = SentenceTransformer('paraphrase-distilroberta-base-v1')\n",
    "sentences = ['This framework generates embeddings for each input sentence, and I love badeed who needs weed. Badeed loves weed.',\n",
    "    'Sentences are passed as a list of string.', \n",
    "    'The quick brown fox jumps over the lazy dog.']\n",
    "sentence_embeddings = model.encode(sentences)\n",
    "\n",
    "print(\"Sentence embeddings:\")\n",
    "print(sentence_embeddings)"
   ]
  },
  {
   "cell_type": "code",
   "execution_count": 12,
   "metadata": {},
   "outputs": [
    {
     "data": {
      "text/plain": [
       "(3, 768)"
      ]
     },
     "execution_count": 12,
     "metadata": {},
     "output_type": "execute_result"
    }
   ],
   "source": [
    "sentence_embeddings.shape"
   ]
  },
  {
   "cell_type": "markdown",
   "metadata": {},
   "source": [
    "## Import Data"
   ]
  },
  {
   "cell_type": "code",
   "execution_count": null,
   "metadata": {},
   "outputs": [],
   "source": [
    "df = pd.read_csv(\"Module 7 Reflection Survey Student Analysis Report.csv\")\n",
    "df.head(5)"
   ]
  },
  {
   "cell_type": "markdown",
   "metadata": {},
   "source": [
    "## Generate embeddings\n",
    "First, combine all the student responses into a single list, then provide the sentences to the embeddings model."
   ]
  },
  {
   "cell_type": "code",
   "execution_count": null,
   "metadata": {},
   "outputs": [],
   "source": [
    "chal = []\n",
    "\n",
    "for challenge in df['4134312: What was your biggest challenge this past week? This can include in-class activities, assignments, prep work, studying, time management, motivation, and so on.']:\n",
    "    if str(challenge) != \"nan\":\n",
    "        sent = str(challenge).replace(\"\\xa0\", \"\")\n",
    "        chal.append(sent)\n",
    "print(chal)"
   ]
  },
  {
   "cell_type": "code",
   "execution_count": null,
   "metadata": {},
   "outputs": [],
   "source": [
    "#provide sentences to model\n",
    "\n",
    "sentence_embeddings = model.encode(chal)"
   ]
  },
  {
   "cell_type": "code",
   "execution_count": null,
   "metadata": {},
   "outputs": [],
   "source": [
    "for sentence, embedding in zip(chal, sentence_embeddings):\n",
    "    print(\"Sentence: \", sentence)\n",
    "    print(\"Embedding: \", embedding)\n",
    "    print(\"\")"
   ]
  },
  {
   "cell_type": "markdown",
   "metadata": {},
   "source": [
    "## K-Means Clustering"
   ]
  },
  {
   "cell_type": "code",
   "execution_count": null,
   "metadata": {},
   "outputs": [],
   "source": [
    "from sklearn.cluster import KMeans"
   ]
  },
  {
   "cell_type": "code",
   "execution_count": null,
   "metadata": {},
   "outputs": [],
   "source": [
    "#This is used to calculate the cluster distances of each student response\n",
    "def k_mean_distance(data, cx, cy, i_centroid, cluster_labels):\n",
    "        distances = [np.sqrt((x-cx)**2+(y-cy)**2) for (x, y) in data[cluster_labels == i_centroid]]\n",
    "        return distances\n"
   ]
  },
  {
   "cell_type": "code",
   "execution_count": null,
   "metadata": {},
   "outputs": [],
   "source": [
    "#Silhouette score is used to calculate the optimal number of clusters a corpus should have\n",
    "from sklearn.metrics import silhouette_score\n",
    "def silhouette(corpus):\n",
    "    sil = []\n",
    "    kmax = 10\n",
    "\n",
    "\n",
    "    for k in range(2, kmax+1):\n",
    "      kmeans = KMeans(n_clusters = k).fit_predict(corpus)\n",
    "      labels = kmeans\n",
    "      sil.append(silhouette_score(corpus, labels, metric = 'euclidean'))\n",
    "    print(sil)\n",
    "    return sil.index(max(sil)) + 2"
   ]
  },
  {
   "cell_type": "code",
   "execution_count": null,
   "metadata": {},
   "outputs": [],
   "source": [
    "optimal_k = silhouette(sentence_embeddings)\n",
    "print(optimal_k)"
   ]
  },
  {
   "cell_type": "code",
   "execution_count": null,
   "metadata": {},
   "outputs": [],
   "source": [
    "#Method for generating the k-means clusters.\n",
    "def kmean_cluster(num_clusters, corpus, embeddings):\n",
    "    clustering_model = KMeans(n_clusters=num_clusters)\n",
    "    \n",
    "    y_pred = clustering_model.fit_predict(embeddings)\n",
    "    distances = clustering_model.fit_transform(embeddings)\n",
    "    cluster_assignment = clustering_model.labels_\n",
    "    \n",
    "    centroids = clustering_model.cluster_centers_\n",
    "\n",
    "    # clustering_model.predict(embeddings)\n",
    "    \n",
    "    \n",
    "    clustered_sentences = [[] for i in range(num_clusters)]\n",
    "    \n",
    "    for sentence_id, cluster_id in enumerate(cluster_assignment):\n",
    "        clustered_sentences[cluster_id].append(corpus[sentence_id])\n",
    "    \n",
    "    reflection = []\n",
    "    cluster2 = []\n",
    "    for i, cluster in enumerate(clustered_sentences):\n",
    "        print(\"_______________Cluster \", i, \"___________________\")\n",
    "        for sent in cluster:\n",
    "            print(sent, \"\\n\")\n",
    "            reflection.append(sent)\n",
    "            cluster2.append(\"cluster \" + str(i))\n",
    "        print(\"\")\n",
    "    distances = np.min(distances, axis=1)\n",
    "    \n",
    "    \n",
    "    \n",
    "    #Download a spreadsheet of the generated clusters\n",
    "    df = {\"student_reflection\": reflection, \"cluster #\": cluster2, \"distance\": distances}\n",
    "    df = pd.DataFrame().from_dict(df)\n",
    "    df.to_csv(\"kmeanscluster_withdistance_mod7.csv\")\n",
    "    \n",
    "    \n",
    "    \n",
    "    return y_pred"
   ]
  },
  {
   "cell_type": "code",
   "execution_count": null,
   "metadata": {},
   "outputs": [],
   "source": [
    "y_pred = kmean_cluster(optimal_k, chal, sentence_embeddings)"
   ]
  },
  {
   "cell_type": "markdown",
   "metadata": {},
   "source": [
    "## Code after this point is for generating a plot (Work in progress, feel free to ignore)\n",
    "Uses UMAP to reduce dimensionality"
   ]
  },
  {
   "cell_type": "code",
   "execution_count": null,
   "metadata": {},
   "outputs": [],
   "source": [
    "print(y_pred)"
   ]
  },
  {
   "cell_type": "code",
   "execution_count": null,
   "metadata": {},
   "outputs": [],
   "source": [
    "umap_reducer = umap.UMAP()\n",
    "reduced_dim = umap_reducer.fit_transform(sentence_embeddings)\n",
    "reduced_dim.shape\n"
   ]
  },
  {
   "cell_type": "code",
   "execution_count": null,
   "metadata": {},
   "outputs": [],
   "source": [
    "palette = sns.color_palette()[:6]\n",
    "sns.set(rc={'figure.figsize':(16,12)})\n",
    "sns.scatterplot(reduced_dim[:,0], reduced_dim[:,1], \n",
    "                hue=y_pred, palette=palette, s=80)\n",
    "plt.ylim(-14,0)\n",
    "plt.xlim(0,14)\n",
    "plt.title('Module 6 - Reflections K-Means Clustering')\n",
    "plt.show()\n"
   ]
  },
  {
   "cell_type": "markdown",
   "metadata": {},
   "source": [
    "## Module 7"
   ]
  },
  {
   "cell_type": "code",
   "execution_count": null,
   "metadata": {},
   "outputs": [],
   "source": [
    "df = pd.read_csv(\"Module 7 Reflection Survey Student Analysis Report.csv\")\n",
    "chal = []\n",
    "\n",
    "for challenge in df['4134312: What was your biggest challenge this past week? This can include in-class activities, assignments, prep work, studying, time management, motivation, and so on.']:\n",
    "    if str(challenge) != \"nan\":\n",
    "        sent = str(challenge).replace(\"\\xa0\", \"\")\n",
    "        chal.append(sent)\n",
    "#print(chal)"
   ]
  },
  {
   "cell_type": "code",
   "execution_count": null,
   "metadata": {},
   "outputs": [],
   "source": [
    "sentence_embeddings = model.encode(chal)"
   ]
  },
  {
   "cell_type": "code",
   "execution_count": null,
   "metadata": {},
   "outputs": [],
   "source": [
    "for sentence, embedding in zip(chal, sentence_embeddings):\n",
    "    print(\"Sentence: \", sentence)\n",
    "    print(\"Embedding: \", embedding)\n",
    "    print(\"\")"
   ]
  },
  {
   "cell_type": "code",
   "execution_count": null,
   "metadata": {},
   "outputs": [],
   "source": [
    "optimal_k = silhouette(sentence_embeddings)\n",
    "print(optimal_k)"
   ]
  },
  {
   "cell_type": "code",
   "execution_count": null,
   "metadata": {},
   "outputs": [],
   "source": [
    "y_pred = kmean_cluster(optimal_k, chal, sentence_embeddings)"
   ]
  },
  {
   "cell_type": "code",
   "execution_count": null,
   "metadata": {},
   "outputs": [],
   "source": [
    "umap_reducer = umap.UMAP()\n",
    "reduced_dim = umap_reducer.fit_transform(sentence_embeddings)\n",
    "reduced_dim.shape\n"
   ]
  },
  {
   "cell_type": "code",
   "execution_count": null,
   "metadata": {},
   "outputs": [],
   "source": [
    "palette = sns.color_palette()[:8]\n",
    "sns.set(rc={'figure.figsize':(16,12)})\n",
    "sns.scatterplot(reduced_dim[:,0], reduced_dim[:,1], \n",
    "                hue=y_pred, palette=palette, s=80)\n",
    "plt.ylim(0,14)\n",
    "plt.xlim(0,14)\n",
    "plt.title('Module 7 - Reflections K-Means Clustering')\n",
    "plt.show()\n"
   ]
  },
  {
   "cell_type": "code",
   "execution_count": null,
   "metadata": {},
   "outputs": [],
   "source": []
  }
 ],
 "metadata": {
  "kernelspec": {
   "display_name": "Python 3",
   "language": "python",
   "name": "python3"
  },
  "language_info": {
   "codemirror_mode": {
    "name": "ipython",
    "version": 3
   },
   "file_extension": ".py",
   "mimetype": "text/x-python",
   "name": "python",
   "nbconvert_exporter": "python",
   "pygments_lexer": "ipython3",
   "version": "3.8.3"
  }
 },
 "nbformat": 4,
 "nbformat_minor": 2
}
